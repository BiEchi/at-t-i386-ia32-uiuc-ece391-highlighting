{
 "cells": [
  {
   "cell_type": "code",
   "execution_count": 39,
   "metadata": {},
   "outputs": [],
   "source": [
    "global_string = \"{\\n\"\n",
    "\n",
    "string_file = \"\"\n",
    "for i in [\"byte\", \"word\", \"long\", \"quad\", \"int\", \"ascii\", \"asciz\"]:\n",
    "    string = \"\\\"\" + i + \" Data Declare\\\": {\\n\\t\\\"prefix\\\":[\\n\\t\\t\\\".\" + i + \"\\\"\\n\\t],\\n\\t\\\"body\\\": \\\".\" + i + \"\\\\t${1:\" + i + \"_data}\\\"\\n},\"\n",
    "    string_file += string + \"\\n\"\n",
    "\n",
    "global_string += string_file\n",
    "\n",
    "fo = open(\"1.json\", \"w\")\n",
    "fo.write(string_file)\n",
    "fo.close()\n"
   ]
  },
  {
   "cell_type": "code",
   "execution_count": 40,
   "metadata": {},
   "outputs": [],
   "source": [
    "command_list = [\"add\", \"sub\", \"mul\", \"div\", \"imul\", \"idiv\"]\n",
    "type_list = ['b', 'w', 'l', 'q']\n",
    "string_file = \"\"\n",
    "\n",
    "for command in command_list:\n",
    "    for type in type_list:\n",
    "        if len(command + type) < 4:\n",
    "            string = \"\\\"\" + command + type + \" Arthmetic Operation\\\": {\\n\\t\\\"prefix\\\":[\\n\\t\\t\\\"\" + command + type + \"\\\"\\n\\t],\\n\\t\\\"body\\\": \\\"\" + command + type + \"\\\\t\\\\t${1:src/imm}, ${2:dest}\\\\n\\\"\\n},\"\n",
    "        else:\n",
    "            string = \"\\\"\" + command + type + \" Arthmetic Operation\\\": {\\n\\t\\\"prefix\\\":[\\n\\t\\t\\\"\" + command + type + \"\\\"\\n\\t],\\n\\t\\\"body\\\": \\\"\" + command + type + \"\\\\t${1:src/imm}, ${2:dest}\\\\n\\\"\\n},\"\n",
    "        string_file += string + \"\\n\"\n",
    "\n",
    "global_string += string_file\n",
    "\n",
    "fo = open(\"2.json\", \"w\")\n",
    "fo.write(string_file)\n",
    "fo.close()\n"
   ]
  },
  {
   "cell_type": "code",
   "execution_count": 41,
   "metadata": {},
   "outputs": [],
   "source": [
    "command_list = [\"inc\", \"dec\", \"neg\"]\n",
    "type_list = ['b', 'w', 'l', 'q']\n",
    "string_file = \"\"\n",
    "\n",
    "global_string += string_file\n",
    "\n",
    "for command in command_list:\n",
    "    for type in type_list:\n",
    "        if len(command + type) < 4:\n",
    "            string = \"\\\"\" + command + type + \" Self-compute Operation\\\": {\\n\\t\\\"prefix\\\":[\\n\\t\\t\\\"\" + command + type + \"\\\"\\n\\t],\\n\\t\\\"body\\\": \\\"\" + command + type + \"\\\\t\\\\t${1:reg}\\\\n\\\"\\n},\"\n",
    "        else:\n",
    "            string = \"\\\"\" + command + type + \" Self-compute Operation\\\": {\\n\\t\\\"prefix\\\":[\\n\\t\\t\\\"\" + command + type + \"\\\"\\n\\t],\\n\\t\\\"body\\\": \\\"\" + command + type + \"\\\\t${1:reg}\\\\n\\\"\\n},\"\n",
    "        string_file += string + \"\\n\"\n",
    "\n",
    "fo = open(\"3.json\", \"w\")\n",
    "fo.write(string_file)\n",
    "fo.close()\n"
   ]
  },
  {
   "cell_type": "code",
   "execution_count": 42,
   "metadata": {},
   "outputs": [],
   "source": [
    "command_list = [\"cmp\", \"test\"]\n",
    "type_list = ['b', 'w', 'l', 'q']\n",
    "string_file = \"\"\n",
    "\n",
    "for command in command_list:\n",
    "    for type in type_list:\n",
    "        if len(command + type) < 4:\n",
    "            string = \"\\\"\" + command + type + \" Logical Operation\\\": {\\n\\t\\\"prefix\\\":[\\n\\t\\t\\\"\" + command + type + \"\\\"\\n\\t],\\n\\t\\\"body\\\": \\\"\" + command + type + \"\\\\t\\\\t${2:op2}, ${1:op1}\\\\n\\\"\\n},\"\n",
    "        else:\n",
    "            string = \"\\\"\" + command + type + \" Logical Operation\\\": {\\n\\t\\\"prefix\\\":[\\n\\t\\t\\\"\" + command + type + \"\\\"\\n\\t],\\n\\t\\\"body\\\": \\\"\" + command + type + \"\\\\t${2:op2}, ${1:op1}\\\\n\\\"\\n},\"\n",
    "        string_file += string + \"\\n\"\n",
    "\n",
    "global_string += string_file\n",
    "\n",
    "fo = open(\"4.json\", \"w\")\n",
    "fo.write(string_file)\n",
    "fo.close()\n"
   ]
  },
  {
   "cell_type": "code",
   "execution_count": 43,
   "metadata": {},
   "outputs": [],
   "source": [
    "command_list = [\"sal\", \"shl\", \"sar\", \"shr\", \"rol\", \"ror\", \"rcl\", \"rcr\"]\n",
    "type_list = ['b', 'w', 'l', 'q']\n",
    "string_file = \"\"\n",
    "\n",
    "for command in command_list:\n",
    "    for type in type_list:\n",
    "        if len(command + type) < 4:\n",
    "            string = \"\\\"\" + command + type + \" Arthmetic Shift Operation\\\": {\\n\\t\\\"prefix\\\":[\\n\\t\\t\\\"\" + command + type + \"\\\"\\n\\t],\\n\\t\\\"body\\\": \\\"\" + command + type + \"\\\\t\\\\t${1:src/imm}, ${2:dest}\\\\n\\\"\\n},\"\n",
    "        else:\n",
    "            string = \"\\\"\" + command + type + \" Arthmetic Shift Operation\\\": {\\n\\t\\\"prefix\\\":[\\n\\t\\t\\\"\" + command + type + \"\\\"\\n\\t],\\n\\t\\\"body\\\": \\\"\" + command + type + \"\\\\t${1:src/imm}, ${2:dest}\\\\n\\\"\\n},\"\n",
    "        string_file += string + \"\\n\"\n",
    "\n",
    "global_string += string_file\n",
    "\n",
    "fo = open(\"5.json\", \"w\")\n",
    "fo.write(string_file)\n",
    "fo.close()"
   ]
  },
  {
   "cell_type": "code",
   "execution_count": 44,
   "metadata": {},
   "outputs": [],
   "source": [
    "command_list = [\"and\", \"or\", \"xor\", \"mov\", \"lea\"]\n",
    "type_list = ['b', 'w', 'l', 'q']\n",
    "string_file = \"\"\n",
    "\n",
    "for command in command_list:\n",
    "    for type in type_list:\n",
    "        if len(command + type) < 4:\n",
    "            string = \"\\\"\" + command + type + \" Arthmetic Operation\\\": {\\n\\t\\\"prefix\\\":[\\n\\t\\t\\\"\" + command + type + \"\\\"\\n\\t],\\n\\t\\\"body\\\": \\\"\" + command + type + \"\\\\t\\\\t${1:src}, ${2:dest}\\\\n\\\"\\n},\"\n",
    "        else:\n",
    "            string = \"\\\"\" + command + type + \" Arthmetic Operation\\\": {\\n\\t\\\"prefix\\\":[\\n\\t\\t\\\"\" + command + type + \"\\\"\\n\\t],\\n\\t\\\"body\\\": \\\"\" + command + type + \"\\\\t${1:src}, ${2:dest}\\\\n\\\"\\n},\"\n",
    "        string_file += string + \"\\n\"\n",
    "\n",
    "global_string += string_file\n",
    "\n",
    "fo = open(\"6.json\", \"w\")\n",
    "fo.write(string_file)\n",
    "fo.close()"
   ]
  },
  {
   "cell_type": "code",
   "execution_count": 45,
   "metadata": {},
   "outputs": [],
   "source": [
    "command_list = [\"not\"]\n",
    "type_list = ['b', 'w', 'l', 'q']\n",
    "string_file = \"\"\n",
    "\n",
    "for command in command_list:\n",
    "    for type in type_list:\n",
    "        if len(command + type) < 4:\n",
    "            string = \"\\\"\" + command + type + \" Arthmetic Operation\\\": {\\n\\t\\\"prefix\\\":[\\n\\t\\t\\\"\" + command + type + \"\\\"\\n\\t],\\n\\t\\\"body\\\": \\\"\" + command + type + \"\\\\t\\\\t${1:reg}\\\\n\\\"\\n},\"\n",
    "        else:\n",
    "            string = \"\\\"\" + command + type + \" Arthmetic Operation\\\": {\\n\\t\\\"prefix\\\":[\\n\\t\\t\\\"\" + command + type + \"\\\"\\n\\t],\\n\\t\\\"body\\\": \\\"\" + command + type + \"\\\\t${1:reg}\\\\n\\\"\\n},\"\n",
    "        string_file += string + \"\\n\"\n",
    "\n",
    "global_string += string_file\n",
    "\n",
    "fo = open(\"7.json\", \"w\")\n",
    "fo.write(string_file)\n",
    "fo.close()"
   ]
  },
  {
   "cell_type": "code",
   "execution_count": 46,
   "metadata": {},
   "outputs": [],
   "source": [
    "command_list = [\"push\", \"pop\"]\n",
    "type_list = ['b', 'w', 'l', 'q']\n",
    "string_file = \"\"\n",
    "\n",
    "for command in command_list:\n",
    "    for type in type_list:\n",
    "        if len(command + type) < 4:\n",
    "            string = \"\\\"\" + command + type + \" Stack Operation\\\": {\\n\\t\\\"prefix\\\":[\\n\\t\\t\\\"\" + command + type + \"\\\"\\n\\t],\\n\\t\\\"body\\\": \\\"\" + command + type + \"\\\\t\\\\t${1:val/reg}\\\\n\\\"\\n},\"\n",
    "        else:\n",
    "            string = \"\\\"\" + command + type + \" Stack Operation\\\": {\\n\\t\\\"prefix\\\":[\\n\\t\\t\\\"\" + command + type + \"\\\"\\n\\t],\\n\\t\\\"body\\\": \\\"\" + command + type + \"\\\\t${1:val/reg}\\\\n\\\"\\n},\"\n",
    "        \n",
    "        string_file += string + \"\\n\"\n",
    "\n",
    "global_string += string_file\n",
    "\n",
    "fo = open(\"8.json\", \"w\")\n",
    "fo.write(string_file)\n",
    "fo.close()"
   ]
  },
  {
   "cell_type": "code",
   "execution_count": 47,
   "metadata": {},
   "outputs": [
    {
     "name": "stdout",
     "output_type": "stream",
     "text": [
      "['loop', 'j', 'jmp', 'ja', 'jae', 'jb', 'jbe', 'je', 'jg', 'jge', 'jl', 'jle', 'jna', 'jnae', 'jnb', 'jnbe', 'jne', 'jng', 'jnge', 'jnl', 'jnle', 'jc', 'jo', 'jp', 'jpe', 'jpo', 'js', 'jz', 'jnc', 'jno', 'jnp', 'jns', 'jnz', 'jcxz', 'jecxz']\n"
     ]
    }
   ],
   "source": [
    "flow_string = \"loop|j|jmp|ja|jae|jb|jbe|je|jg|jge|jl|jle|jna|jnae|jnb|jnbe|jne|jng|jnge|jnl|jnle|jc|jo|jp|jpe|jpo|js|jz|jnc|jno|jnp|jns|jnz|jcxz|jecxz\"\n",
    "splitter = \"|\"\n",
    "flow_list = flow_string.split(splitter)\n",
    "print(flow_list)"
   ]
  },
  {
   "cell_type": "code",
   "execution_count": 48,
   "metadata": {},
   "outputs": [],
   "source": [
    "command_list = flow_list\n",
    "type_list = ['']\n",
    "string_file = \"\"\n",
    "\n",
    "for command in command_list:\n",
    "    for type in type_list:\n",
    "        if len(command + type) < 4:\n",
    "            string = \"\\\"\" + command + type + \" Flow Operation\\\": {\\n\\t\\\"prefix\\\":[\\n\\t\\t\\\"\" + command + type + \"\\\"\\n\\t],\\n\\t\\\"body\\\": \\\"\" + command + type + \"\\\\t\\\\t${1:label}\\\\n\\\"\\n}\"\n",
    "        else:\n",
    "            string = \"\\\"\" + command + type + \" Flow Operation\\\": {\\n\\t\\\"prefix\\\":[\\n\\t\\t\\\"\" + command + type + \"\\\"\\n\\t],\\n\\t\\\"body\\\": \\\"\" + command + type + \"\\\\t${1:label}\\\\n\\\"\\n}\"\n",
    "        \n",
    "        if command != command_list[-1] or type != type_list[-1]:\n",
    "            string += ','\n",
    "        string_file += string + \"\\n\"\n",
    "\n",
    "global_string += string_file\n",
    "\n",
    "fo = open(\"9.json\", \"w\")\n",
    "fo.write(string_file)\n",
    "fo.close()"
   ]
  },
  {
   "cell_type": "code",
   "execution_count": 49,
   "metadata": {},
   "outputs": [],
   "source": [
    "global_string += \"\\n}\"\n",
    "\n",
    "fo = open(\"../snippets/attasm.json\", \"w\")\n",
    "fo.write(global_string)\n",
    "fo.close()"
   ]
  }
 ],
 "metadata": {
  "kernelspec": {
   "display_name": "Python 3 (ipykernel)",
   "language": "python",
   "name": "python3"
  },
  "language_info": {
   "codemirror_mode": {
    "name": "ipython",
    "version": 3
   },
   "file_extension": ".py",
   "mimetype": "text/x-python",
   "name": "python",
   "nbconvert_exporter": "python",
   "pygments_lexer": "ipython3",
   "version": "3.8.8"
  },
  "orig_nbformat": 4
 },
 "nbformat": 4,
 "nbformat_minor": 2
}
