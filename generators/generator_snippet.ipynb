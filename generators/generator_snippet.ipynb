{
 "cells": [
  {
   "cell_type": "code",
   "execution_count": 182,
   "metadata": {},
   "outputs": [],
   "source": [
    "global_string = \"{\\n\"\n",
    "\n",
    "string_file = \"\"\n",
    "for i in [\"byte\", \"word\", \"long\", \"quad\", \"int\", \"ascii\", \"asciz\"]:\n",
    "    if len(i) + 1 < 4:\n",
    "        string = \"\\\"\" + i + \" Data Declare\\\": {\\n\\t\\\"prefix\\\":[\\n\\t\\t\\\".\" + i + \"\\\"\\n\\t],\\n\\t\\\"body\\\": \\\".\" + i + \"\\\\t\\\\t${1:\" + i + \"_data}\\\\n\\\"\\n},\"\n",
    "    else:\n",
    "        string = \"\\\"\" + i + \" Data Declare\\\": {\\n\\t\\\"prefix\\\":[\\n\\t\\t\\\".\" + i + \"\\\"\\n\\t],\\n\\t\\\"body\\\": \\\".\" + i + \"\\\\t${1:\" + i + \"_data}\\\\n\\\"\\n},\"\n",
    "    \n",
    "    string_file += string + \"\\n\"\n",
    "\n",
    "global_string += string_file\n",
    "\n",
    "fo = open(\"1.json\", \"w\")\n",
    "fo.write(string_file)\n",
    "fo.close()\n"
   ]
  },
  {
   "cell_type": "code",
   "execution_count": 183,
   "metadata": {},
   "outputs": [],
   "source": [
    "command_list = [\"add\", \"sub\", \"mul\", \"div\", \"imul\", \"idiv\"]\n",
    "type_list = ['b', 'w', 'l', 'q']\n",
    "string_file = \"\"\n",
    "\n",
    "for command in command_list:\n",
    "    for type in type_list:\n",
    "        if len(command + type) < 4:\n",
    "            string = \"\\\"\" + command + type + \" Arthmetic Operation\\\": {\\n\\t\\\"prefix\\\":[\\n\\t\\t\\\"\" + command + type + \"\\\"\\n\\t],\\n\\t\\\"body\\\": \\\"\" + command + type + \"\\\\t\\\\t${1:src/imm}, ${2:dest}\\\\n\\\"\\n},\"\n",
    "        else:\n",
    "            string = \"\\\"\" + command + type + \" Arthmetic Operation\\\": {\\n\\t\\\"prefix\\\":[\\n\\t\\t\\\"\" + command + type + \"\\\"\\n\\t],\\n\\t\\\"body\\\": \\\"\" + command + type + \"\\\\t${1:src/imm}, ${2:dest}\\\\n\\\"\\n},\"\n",
    "        string_file += string + \"\\n\"\n",
    "\n",
    "global_string += string_file\n",
    "\n",
    "fo = open(\"2.json\", \"w\")\n",
    "fo.write(string_file)\n",
    "fo.close()\n"
   ]
  },
  {
   "cell_type": "code",
   "execution_count": 184,
   "metadata": {},
   "outputs": [],
   "source": [
    "command_list = [\"inc\", \"dec\", \"neg\"]\n",
    "type_list = ['b', 'w', 'l', 'q']\n",
    "string_file = \"\"\n",
    "\n",
    "global_string += string_file\n",
    "\n",
    "for command in command_list:\n",
    "    for type in type_list:\n",
    "        if len(command + type) < 4:\n",
    "            string = \"\\\"\" + command + type + \" Self-compute Operation\\\": {\\n\\t\\\"prefix\\\":[\\n\\t\\t\\\"\" + command + type + \"\\\"\\n\\t],\\n\\t\\\"body\\\": \\\"\" + command + type + \"\\\\t\\\\t${1:reg}\\\\n\\\"\\n},\"\n",
    "        else:\n",
    "            string = \"\\\"\" + command + type + \" Self-compute Operation\\\": {\\n\\t\\\"prefix\\\":[\\n\\t\\t\\\"\" + command + type + \"\\\"\\n\\t],\\n\\t\\\"body\\\": \\\"\" + command + type + \"\\\\t${1:reg}\\\\n\\\"\\n},\"\n",
    "        string_file += string + \"\\n\"\n",
    "\n",
    "fo = open(\"3.json\", \"w\")\n",
    "fo.write(string_file)\n",
    "fo.close()\n"
   ]
  },
  {
   "cell_type": "code",
   "execution_count": 185,
   "metadata": {},
   "outputs": [],
   "source": [
    "command_list = [\"cmp\", \"test\"]\n",
    "type_list = ['b', 'w', 'l', 'q']\n",
    "string_file = \"\"\n",
    "\n",
    "for command in command_list:\n",
    "    for type in type_list:\n",
    "        if len(command + type) < 4:\n",
    "            string = \"\\\"\" + command + type + \" Logical Operation\\\": {\\n\\t\\\"prefix\\\":[\\n\\t\\t\\\"\" + command + type + \"\\\"\\n\\t],\\n\\t\\\"body\\\": \\\"\" + command + type + \"\\\\t\\\\t${2:op2}, ${1:op1}\\\\n\\\"\\n},\"\n",
    "        else:\n",
    "            string = \"\\\"\" + command + type + \" Logical Operation\\\": {\\n\\t\\\"prefix\\\":[\\n\\t\\t\\\"\" + command + type + \"\\\"\\n\\t],\\n\\t\\\"body\\\": \\\"\" + command + type + \"\\\\t${2:op2}, ${1:op1}\\\\n\\\"\\n},\"\n",
    "        string_file += string + \"\\n\"\n",
    "\n",
    "global_string += string_file\n",
    "\n",
    "fo = open(\"4.json\", \"w\")\n",
    "fo.write(string_file)\n",
    "fo.close()\n"
   ]
  },
  {
   "cell_type": "code",
   "execution_count": 186,
   "metadata": {},
   "outputs": [],
   "source": [
    "command_list = [\"sal\", \"shl\", \"sar\", \"shr\", \"rol\", \"ror\", \"rcl\", \"rcr\"]\n",
    "type_list = ['b', 'w', 'l', 'q']\n",
    "string_file = \"\"\n",
    "\n",
    "for command in command_list:\n",
    "    for type in type_list:\n",
    "        if len(command + type) < 4:\n",
    "            string = \"\\\"\" + command + type + \" Arthmetic Shift Operation\\\": {\\n\\t\\\"prefix\\\":[\\n\\t\\t\\\"\" + command + type + \"\\\"\\n\\t],\\n\\t\\\"body\\\": \\\"\" + command + type + \"\\\\t\\\\t${1:src/imm}, ${2:dest}\\\\n\\\"\\n},\"\n",
    "        else:\n",
    "            string = \"\\\"\" + command + type + \" Arthmetic Shift Operation\\\": {\\n\\t\\\"prefix\\\":[\\n\\t\\t\\\"\" + command + type + \"\\\"\\n\\t],\\n\\t\\\"body\\\": \\\"\" + command + type + \"\\\\t${1:src/imm}, ${2:dest}\\\\n\\\"\\n},\"\n",
    "        string_file += string + \"\\n\"\n",
    "\n",
    "global_string += string_file\n",
    "\n",
    "fo = open(\"5.json\", \"w\")\n",
    "fo.write(string_file)\n",
    "fo.close()"
   ]
  },
  {
   "cell_type": "code",
   "execution_count": 187,
   "metadata": {},
   "outputs": [],
   "source": [
    "command_list = [\"and\", \"or\", \"xor\", \"mov\", \"lea\"]\n",
    "type_list = ['b', 'w', 'l', 'q']\n",
    "string_file = \"\"\n",
    "\n",
    "for command in command_list:\n",
    "    for type in type_list:\n",
    "        if len(command + type) < 4:\n",
    "            string = \"\\\"\" + command + type + \" Arthmetic Operation\\\": {\\n\\t\\\"prefix\\\":[\\n\\t\\t\\\"\" + command + type + \"\\\"\\n\\t],\\n\\t\\\"body\\\": \\\"\" + command + type + \"\\\\t\\\\t${1:src}, ${2:dest}\\\\n\\\"\\n},\"\n",
    "        else:\n",
    "            string = \"\\\"\" + command + type + \" Arthmetic Operation\\\": {\\n\\t\\\"prefix\\\":[\\n\\t\\t\\\"\" + command + type + \"\\\"\\n\\t],\\n\\t\\\"body\\\": \\\"\" + command + type + \"\\\\t${1:src}, ${2:dest}\\\\n\\\"\\n},\"\n",
    "        string_file += string + \"\\n\"\n",
    "\n",
    "global_string += string_file\n",
    "\n",
    "fo = open(\"6.json\", \"w\")\n",
    "fo.write(string_file)\n",
    "fo.close()"
   ]
  },
  {
   "cell_type": "code",
   "execution_count": 188,
   "metadata": {},
   "outputs": [],
   "source": [
    "command_list = [\"not\"]\n",
    "type_list = ['b', 'w', 'l', 'q']\n",
    "string_file = \"\"\n",
    "\n",
    "for command in command_list:\n",
    "    for type in type_list:\n",
    "        if len(command + type) < 4:\n",
    "            string = \"\\\"\" + command + type + \" Arthmetic Operation\\\": {\\n\\t\\\"prefix\\\":[\\n\\t\\t\\\"\" + command + type + \"\\\"\\n\\t],\\n\\t\\\"body\\\": \\\"\" + command + type + \"\\\\t\\\\t${1:reg}\\\\n\\\"\\n},\"\n",
    "        else:\n",
    "            string = \"\\\"\" + command + type + \" Arthmetic Operation\\\": {\\n\\t\\\"prefix\\\":[\\n\\t\\t\\\"\" + command + type + \"\\\"\\n\\t],\\n\\t\\\"body\\\": \\\"\" + command + type + \"\\\\t${1:reg}\\\\n\\\"\\n},\"\n",
    "        string_file += string + \"\\n\"\n",
    "\n",
    "global_string += string_file\n",
    "\n",
    "fo = open(\"7.json\", \"w\")\n",
    "fo.write(string_file)\n",
    "fo.close()"
   ]
  },
  {
   "cell_type": "code",
   "execution_count": 189,
   "metadata": {},
   "outputs": [],
   "source": [
    "command_list = [\"push\", \"pop\"]\n",
    "type_list = ['b', 'w', 'l', 'q']\n",
    "string_file = \"\"\n",
    "\n",
    "for command in command_list:\n",
    "    for type in type_list:\n",
    "        if len(command + type) < 4:\n",
    "            string = \"\\\"\" + command + type + \" Stack Operation\\\": {\\n\\t\\\"prefix\\\":[\\n\\t\\t\\\"\" + command + type + \"\\\"\\n\\t],\\n\\t\\\"body\\\": \\\"\" + command + type + \"\\\\t\\\\t${1:val/reg}\\\\n\\\"\\n},\"\n",
    "        else:\n",
    "            string = \"\\\"\" + command + type + \" Stack Operation\\\": {\\n\\t\\\"prefix\\\":[\\n\\t\\t\\\"\" + command + type + \"\\\"\\n\\t],\\n\\t\\\"body\\\": \\\"\" + command + type + \"\\\\t${1:val/reg}\\\\n\\\"\\n},\"\n",
    "        \n",
    "        string_file += string + \"\\n\"\n",
    "\n",
    "global_string += string_file\n",
    "\n",
    "fo = open(\"8.json\", \"w\")\n",
    "fo.write(string_file)\n",
    "fo.close()"
   ]
  },
  {
   "cell_type": "code",
   "execution_count": 190,
   "metadata": {},
   "outputs": [
    {
     "name": "stdout",
     "output_type": "stream",
     "text": [
      "['call', 'int', 'loop', 'j', 'jmp', 'ja', 'jae', 'jb', 'jbe', 'je', 'jg', 'jge', 'jl', 'jle', 'jna', 'jnae', 'jnb', 'jnbe', 'jne', 'jng', 'jnge', 'jnl', 'jnle', 'jc', 'jo', 'jp', 'jpe', 'jpo', 'js', 'jz', 'jnc', 'jno', 'jnp', 'jns', 'jnz', 'jcxz', 'jecxz']\n"
     ]
    }
   ],
   "source": [
    "flow_string = \"call|int|loop|j|jmp|ja|jae|jb|jbe|je|jg|jge|jl|jle|jna|jnae|jnb|jnbe|jne|jng|jnge|jnl|jnle|jc|jo|jp|jpe|jpo|js|jz|jnc|jno|jnp|jns|jnz|jcxz|jecxz\"\n",
    "splitter = \"|\"\n",
    "flow_list = flow_string.split(splitter)\n",
    "print(flow_list)"
   ]
  },
  {
   "cell_type": "code",
   "execution_count": 191,
   "metadata": {},
   "outputs": [],
   "source": [
    "command_list = flow_list\n",
    "type_list = ['']\n",
    "string_file = \"\"\n",
    "\n",
    "for command in command_list:\n",
    "    for type in type_list:\n",
    "        if len(command + type) < 4:\n",
    "            string = \"\\\"\" + command + type + \" Flow Operation\\\": {\\n\\t\\\"prefix\\\":[\\n\\t\\t\\\"\" + command + type + \"\\\"\\n\\t],\\n\\t\\\"body\\\": \\\"\" + command + type + \"\\\\t\\\\t${1:label/imm}\\\\n\\\"\\n},\"\n",
    "        else:\n",
    "            string = \"\\\"\" + command + type + \" Flow Operation\\\": {\\n\\t\\\"prefix\\\":[\\n\\t\\t\\\"\" + command + type + \"\\\"\\n\\t],\\n\\t\\\"body\\\": \\\"\" + command + type + \"\\\\t${1:label/imm}\\\\n\\\"\\n},\"\n",
    "        \n",
    "        string_file += string + \"\\n\"\n",
    "\n",
    "global_string += string_file\n",
    "\n",
    "fo = open(\"9.json\", \"w\")\n",
    "fo.write(string_file)\n",
    "fo.close()"
   ]
  },
  {
   "cell_type": "code",
   "execution_count": 192,
   "metadata": {},
   "outputs": [],
   "source": [
    "command_list = ['align']\n",
    "type_list = ['']\n",
    "string_file = \"\"\n",
    "\n",
    "for command in command_list:\n",
    "    for type in type_list:\n",
    "        if len(command + type) + 1 < 4:\n",
    "            string = \"\\\"\" + command + type + \" Memory Alignment\\\": {\\n\\t\\\"prefix\\\":[\\n\\t\\t\\\".\" + command + type + \"\\\"\\n\\t],\\n\\t\\\"body\\\": \\\".\" + command + type + \"\\\\t\\\\t${1:.byte=1,.int=2,.long=4,.quad=8}\\\\n\\\"\\n},\"\n",
    "        else:\n",
    "            string = \"\\\"\" + command + type + \" Memory Alignment\\\": {\\n\\t\\\"prefix\\\":[\\n\\t\\t\\\".\" + command + type + \"\\\"\\n\\t],\\n\\t\\\"body\\\": \\\".\" + command + type + \"\\\\t${1:.byte=1,.int=2,.long=4,.quad=8}\\\\n\\\"\\n},\"\n",
    "\n",
    "        string_file += string + \"\\n\"\n",
    "\n",
    "global_string += string_file\n",
    "\n",
    "fo = open(\"10.json\", \"w\")\n",
    "fo.write(string_file)\n",
    "fo.close()"
   ]
  },
  {
   "cell_type": "code",
   "execution_count": 193,
   "metadata": {},
   "outputs": [],
   "source": [
    "string = \"\\\"Prototype Comment\\\": {\\n\\t\\\"prefix\\\":[\\n\\t\\t\\\"\" + 'PROTOTYPE' + \"\\\"\\n\\t],\\n\\t\\\"body\\\": \\\"\" + '// PROTOTYPE ' + \"${1:type_t} ${2:name}(${3:args})\\\\n\\\"\\n}\"\n",
    "\n",
    "global_string += string"
   ]
  },
  {
   "cell_type": "code",
   "execution_count": 194,
   "metadata": {},
   "outputs": [],
   "source": [
    "global_string += \"\\n}\"\n",
    "\n",
    "fo = open(\"../snippets/attasm.json\", \"w\")\n",
    "fo.write(global_string)\n",
    "fo.close()"
   ]
  },
  {
   "cell_type": "code",
   "execution_count": 195,
   "metadata": {},
   "outputs": [],
   "source": [
    "# if command != command_list[-1] or type != type_list[-1]:\n",
    "#     string += ','"
   ]
  }
 ],
 "metadata": {
  "kernelspec": {
   "display_name": "Python 3 (ipykernel)",
   "language": "python",
   "name": "python3"
  },
  "orig_nbformat": 4
 },
 "nbformat": 4,
 "nbformat_minor": 2
}
