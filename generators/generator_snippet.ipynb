{
 "cells": [
  {
   "cell_type": "code",
   "execution_count": 67,
   "metadata": {},
   "outputs": [],
   "source": [
    "global_string = \"{\\n\"\n",
    "\n",
    "string_file = \"\"\n",
    "for i in [\"byte\", \"word\", \"long\", \"quad\", \"int\", \"ascii\", \"asciz\"]:\n",
    "    string = \"\\\"\" + i + \" Data Declare\\\": {\\n\\t\\\"prefix\\\":[\\n\\t\\t\\\".\" + i + \"\\\"\\n\\t],\\n\\t\\\"body\\\": \\\".\" + i + \"\\\\t${1:\" + i + \"_data}\\\"\\n},\"\n",
    "    string_file += string + \"\\n\"\n",
    "\n",
    "global_string += string_file\n",
    "\n",
    "fo = open(\"1.json\", \"w\")\n",
    "fo.write(string_file)\n",
    "fo.close()\n"
   ]
  },
  {
   "cell_type": "code",
   "execution_count": 68,
   "metadata": {},
   "outputs": [],
   "source": [
    "command_list = [\"add\", \"sub\", \"mul\", \"div\", \"imul\", \"idiv\"]\n",
    "type_list = ['b', 'w', 'l', 'q']\n",
    "string_file = \"\"\n",
    "\n",
    "for command in command_list:\n",
    "    for type in type_list:\n",
    "        string = \"\\\"\" + command + type + \" Operation\\\": {\\n\\t\\\"prefix\\\":[\\n\\t\\t\\\"\" + command + type + \"\\\"\\n\\t],\\n\\t\\\"body\\\": \\\"\" + command + type + \"\\\\t${1:src/imm}\\\\t${2:dest}\\\"\\n},\"\n",
    "        string_file += string + \"\\n\"\n",
    "\n",
    "global_string += string_file\n",
    "\n",
    "fo = open(\"2.json\", \"w\")\n",
    "fo.write(string_file)\n",
    "fo.close()\n"
   ]
  },
  {
   "cell_type": "code",
   "execution_count": 69,
   "metadata": {},
   "outputs": [],
   "source": [
    "command_list = [\"inc\", \"dec\", \"neg\"]\n",
    "type_list = ['b', 'w', 'l', 'q']\n",
    "string_file = \"\"\n",
    "\n",
    "global_string += string_file\n",
    "\n",
    "for command in command_list:\n",
    "    for type in type_list:\n",
    "        string = \"\\\"\" + command + type + \" Operation\\\": {\\n\\t\\\"prefix\\\":[\\n\\t\\t\\\"\" + command + type + \"\\\"\\n\\t],\\n\\t\\\"body\\\": \\\"\" + command + type + \"\\\\t${1:src&dest}\\\"\\n},\"\n",
    "        string_file += string + \"\\n\"\n",
    "\n",
    "fo = open(\"3.json\", \"w\")\n",
    "fo.write(string_file)\n",
    "fo.close()\n"
   ]
  },
  {
   "cell_type": "code",
   "execution_count": 70,
   "metadata": {},
   "outputs": [],
   "source": [
    "command_list = [\"cmp\", \"test\"]\n",
    "type_list = ['b', 'w', 'l', 'q']\n",
    "string_file = \"\"\n",
    "\n",
    "for command in command_list:\n",
    "    for type in type_list:\n",
    "        string = \"\\\"\" + command + type + \" Operation\\\": {\\n\\t\\\"prefix\\\":[\\n\\t\\t\\\"\" + command + type + \"\\\"\\n\\t],\\n\\t\\\"body\\\": \\\"\" + command + type + \"\\\\t${1:val2}\\\\t${2:val1}\\\"\\n},\"\n",
    "        string_file += string + \"\\n\"\n",
    "\n",
    "global_string += string_file\n",
    "\n",
    "fo = open(\"4.json\", \"w\")\n",
    "fo.write(string_file)\n",
    "fo.close()\n"
   ]
  },
  {
   "cell_type": "code",
   "execution_count": 71,
   "metadata": {},
   "outputs": [],
   "source": [
    "command_list = [\"sal\", \"shl\", \"sar\", \"shr\", \"rol\", \"ror\", \"rcl\", \"rcr\"]\n",
    "type_list = ['b', 'w', 'l', 'q']\n",
    "string_file = \"\"\n",
    "\n",
    "for command in command_list:\n",
    "    for type in type_list:\n",
    "        string = \"\\\"\" + command + type + \" Operation\\\": {\\n\\t\\\"prefix\\\":[\\n\\t\\t\\\"\" + command + type + \"\\\"\\n\\t],\\n\\t\\\"body\\\": \\\"\" + command + type + \"\\\\t${1:src/imm}\\\\t${2:dest}\\\"\\n},\"\n",
    "        string_file += string + \"\\n\"\n",
    "\n",
    "global_string += string_file\n",
    "\n",
    "fo = open(\"5.json\", \"w\")\n",
    "fo.write(string_file)\n",
    "fo.close()"
   ]
  },
  {
   "cell_type": "code",
   "execution_count": 72,
   "metadata": {},
   "outputs": [],
   "source": [
    "command_list = [\"and\", \"or\", \"xor\", \"mov\", \"lea\"]\n",
    "type_list = ['b', 'w', 'l', 'q']\n",
    "string_file = \"\"\n",
    "\n",
    "for command in command_list:\n",
    "    for type in type_list:\n",
    "        string = \"\\\"\" + command + type + \" Operation\\\": {\\n\\t\\\"prefix\\\":[\\n\\t\\t\\\"\" + command + type + \"\\\"\\n\\t],\\n\\t\\\"body\\\": \\\"\" + command + type + \"\\\\t${1:src/imm}\\\\t${2:dest}\\\"\\n},\"\n",
    "        string_file += string + \"\\n\"\n",
    "\n",
    "global_string += string_file\n",
    "\n",
    "fo = open(\"6.json\", \"w\")\n",
    "fo.write(string_file)\n",
    "fo.close()"
   ]
  },
  {
   "cell_type": "code",
   "execution_count": 73,
   "metadata": {},
   "outputs": [],
   "source": [
    "command_list = [\"not\"]\n",
    "type_list = ['b', 'w', 'l', 'q']\n",
    "string_file = \"\"\n",
    "\n",
    "for command in command_list:\n",
    "    for type in type_list:\n",
    "        string = \"\\\"\" + command + type + \" Operation\\\": {\\n\\t\\\"prefix\\\":[\\n\\t\\t\\\"\" + command + type + \"\\\"\\n\\t],\\n\\t\\\"body\\\": \\\"\" + command + type + \"\\\\t${1:dest}\\\"\\n},\"\n",
    "        string_file += string + \"\\n\"\n",
    "\n",
    "global_string += string_file\n",
    "\n",
    "fo = open(\"7.json\", \"w\")\n",
    "fo.write(string_file)\n",
    "fo.close()"
   ]
  },
  {
   "cell_type": "code",
   "execution_count": 74,
   "metadata": {},
   "outputs": [],
   "source": [
    "command_list = [\"push\", \"pop\"]\n",
    "type_list = ['b', 'w', 'l', 'q']\n",
    "string_file = \"\"\n",
    "\n",
    "for command in command_list:\n",
    "    for type in type_list:\n",
    "        string = \"\\\"\" + command + type + \" Stack Operation\\\": {\\n\\t\\\"prefix\\\":[\\n\\t\\t\\\"\" + command + type + \"\\\"\\n\\t],\\n\\t\\\"body\\\": \\\"\" + command + type + \"\\\\t${1:ptr_reg}\\\"\\n}\"\n",
    "        if command != command_list[-1] or type != type_list[-1]:\n",
    "            string += ','\n",
    "        string_file += string + \"\\n\"\n",
    "\n",
    "global_string += string_file\n",
    "\n",
    "fo = open(\"8.json\", \"w\")\n",
    "fo.write(string_file)\n",
    "fo.close()"
   ]
  },
  {
   "cell_type": "code",
   "execution_count": 75,
   "metadata": {},
   "outputs": [],
   "source": [
    "global_string += \"\\n}\"\n",
    "\n",
    "fo = open(\"global.json\", \"w\")\n",
    "fo.write(global_string)\n",
    "fo.close()"
   ]
  }
 ],
 "metadata": {
  "kernelspec": {
   "display_name": "Python 3 (ipykernel)",
   "language": "python",
   "name": "python3"
  },
  "orig_nbformat": 4
 },
 "nbformat": 4,
 "nbformat_minor": 2
}
