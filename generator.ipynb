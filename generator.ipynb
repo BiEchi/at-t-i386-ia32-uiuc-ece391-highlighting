{
 "cells": [
  {
   "cell_type": "code",
   "execution_count": 18,
   "metadata": {},
   "outputs": [],
   "source": [
    "def command_generator(command_list):\n",
    "    string = \"\\\"\\\\b(\"\n",
    "    type_list = ['b', 'w', 'l', 'q']\n",
    "    for command in command_list:\n",
    "        for type in type_list:\n",
    "            string += command + type\n",
    "            if command != command_list[-1] or type != type_list[-1]:\n",
    "                string += \"|\"\n",
    "    string += \")\\\\b\\\"\"\n",
    "    return string"
   ]
  },
  {
   "cell_type": "code",
   "execution_count": 28,
   "metadata": {},
   "outputs": [
    {
     "data": {
      "text/plain": [
       "'\"\\\\b(addb|addw|addl|addq|subb|subw|subl|subq|negb|negw|negl|negq|incb|incw|incl|incq|decb|decw|decl|decq|mulb|mulw|mull|mulq|divb|divw|divl|divq|imulb|imulw|imull|imulq|idivb|idivw|idivl|idivq|cmpb|cmpw|cmpl|cmpq|testb|testw|testl|testq)\\\\b\"'"
      ]
     },
     "execution_count": 28,
     "metadata": {},
     "output_type": "execute_result"
    }
   ],
   "source": [
    "# arithmetic operators\n",
    "command_list = [\"add\", \"sub\", \"neg\", \"inc\", \"dec\", \"mul\", \"div\", \"imul\", \"idiv\", \"cmp\", \"test\"]\n",
    "command_generator(command_list)\n"
   ]
  },
  {
   "cell_type": "code",
   "execution_count": 24,
   "metadata": {},
   "outputs": [
    {
     "data": {
      "text/plain": [
       "'\"\\\\b(salb|salw|sall|salq|shlb|shlw|shll|shlq|sarb|sarw|sarl|sarq|shrb|shrw|shrl|shrq|rolb|rolw|roll|rolq|rorb|rorw|rorl|rorq|rclb|rclw|rcll|rclq|rcrb|rcrw|rcrl|rcrq)\\\\b\"'"
      ]
     },
     "execution_count": 24,
     "metadata": {},
     "output_type": "execute_result"
    }
   ],
   "source": [
    "# shift operators\n",
    "command_list = [\"sal\", \"shl\", \"sar\", \"shr\", \"rol\", \"ror\", \"rcl\", \"rcr\"]\n",
    "command_generator(command_list)"
   ]
  },
  {
   "cell_type": "code",
   "execution_count": 25,
   "metadata": {},
   "outputs": [
    {
     "data": {
      "text/plain": [
       "'\"\\\\b(notb|notw|notl|notq|andb|andw|andl|andq|orb|orw|orl|orq|xorb|xorw|xorl|xorq)\\\\b\"'"
      ]
     },
     "execution_count": 25,
     "metadata": {},
     "output_type": "execute_result"
    }
   ],
   "source": [
    "# boolean operators\n",
    "command_list = [\"not\", \"and\", \"or\", \"xor\"]\n",
    "command_generator(command_list)"
   ]
  },
  {
   "cell_type": "code",
   "execution_count": 20,
   "metadata": {},
   "outputs": [
    {
     "data": {
      "text/plain": [
       "'\"\\\\b(movb|movw|movl|movq)\\\\b\"'"
      ]
     },
     "execution_count": 20,
     "metadata": {},
     "output_type": "execute_result"
    }
   ],
   "source": [
    "# move operators\n",
    "command_list = [\"mov\"]\n",
    "command_generator(command_list)"
   ]
  },
  {
   "cell_type": "code",
   "execution_count": 29,
   "metadata": {},
   "outputs": [
    {
     "data": {
      "text/plain": [
       "'\"\\\\b(leab|leaw|leal|leaq)\\\\b\"'"
      ]
     },
     "execution_count": 29,
     "metadata": {},
     "output_type": "execute_result"
    }
   ],
   "source": [
    "# memory operators\n",
    "command_list = [\"lea\"]\n",
    "command_generator(command_list)"
   ]
  },
  {
   "cell_type": "code",
   "execution_count": 30,
   "metadata": {},
   "outputs": [
    {
     "data": {
      "text/plain": [
       "'\"\\\\b(pushb|pushw|pushl|pushq|popb|popw|popl|popq)\\\\b\"'"
      ]
     },
     "execution_count": 30,
     "metadata": {},
     "output_type": "execute_result"
    }
   ],
   "source": [
    "# stack operators\n",
    "command_list = [\"push\", \"pop\"]\n",
    "command_generator(command_list)"
   ]
  },
  {
   "cell_type": "code",
   "execution_count": null,
   "metadata": {},
   "outputs": [],
   "source": []
  }
 ],
 "metadata": {
  "kernelspec": {
   "display_name": "Python 3 (ipykernel)",
   "language": "python",
   "name": "python3"
  },
  "language_info": {
   "codemirror_mode": {
    "name": "ipython",
    "version": 3
   },
   "file_extension": ".py",
   "mimetype": "text/x-python",
   "name": "python",
   "nbconvert_exporter": "python",
   "pygments_lexer": "ipython3",
   "version": "3.8.8"
  },
  "orig_nbformat": 4
 },
 "nbformat": 4,
 "nbformat_minor": 2
}
